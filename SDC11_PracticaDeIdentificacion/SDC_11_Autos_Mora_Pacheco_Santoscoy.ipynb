{
 "cells": [
  {
   "cell_type": "markdown",
   "metadata": {},
   "source": [
    "# Detección de autos"
   ]
  },
  {
   "cell_type": "markdown",
   "metadata": {},
   "source": [
    "Se utilizará el clasificador Haar Cascade para encontrar autos en un vídeo"
   ]
  },
  {
   "cell_type": "markdown",
   "metadata": {},
   "source": [
    "## Cargando librerías"
   ]
  },
  {
   "cell_type": "code",
   "execution_count": 1,
   "metadata": {},
   "outputs": [],
   "source": [
    "import matplotlib.pyplot as plt\n",
    "import numpy as np\n",
    "import cv2 as cv\n",
    "import time"
   ]
  },
  {
   "cell_type": "markdown",
   "metadata": {},
   "source": [
    "## Cargando datos de clasificación de autos"
   ]
  },
  {
   "cell_type": "code",
   "execution_count": 2,
   "metadata": {},
   "outputs": [],
   "source": [
    "car_cascade = cv.CascadeClassifier(\"datos/cars.xml\")"
   ]
  },
  {
   "cell_type": "markdown",
   "metadata": {},
   "source": [
    "## Creando la función de detección de autos"
   ]
  },
  {
   "cell_type": "code",
   "execution_count": 3,
   "metadata": {},
   "outputs": [],
   "source": [
    "def detect_car(img, scaleFactor, minNeighbors):\n",
    "    r = 0.5\n",
    "    width = int(r*img.shape[1])\n",
    "    height = int(r*img.shape[0])\n",
    "    img = cv.resize(img, (width, height), interpolation = cv.INTER_NEAREST)\n",
    "    img_gray = cv.cvtColor(img, cv.COLOR_BGR2GRAY)\n",
    "    cars = car_cascade.detectMultiScale(img_gray, scaleFactor, minNeighbors)\n",
    "\n",
    "    for(x,y,w,h) in cars:\n",
    "        cv.rectangle(img, (x,y), (x+w, y+h), (255,255,0),2)\n",
    "    return img"
   ]
  },
  {
   "cell_type": "markdown",
   "metadata": {},
   "source": [
    "La función definida requiere de 3 parámetros: la imagen (<code>img</code>), un factor de escala de imagen (<code>scaleFactor</code>) y la calidad de detección (<code>minNeighbors</code>).\n",
    "\n",
    "<code>scaleFactor</code> y <code>minNeighbors</code> vienen de la función <code>multiScale()</code> de openCV, estos definen la escala y la calidad de detección de los objetos, cambiar estos parámetros permitirá manipular la detección de la imagen. La intención es adaptarlos para obtener la menor cantidad de falsos positivos y aumentar los verdaderos positivos.\n",
    "\n",
    "La imagen se redimensiona a una de 270 x 480 pixeles para mejorar la detección y aumentar la velocidad de procesamiento."
   ]
  },
  {
   "cell_type": "markdown",
   "metadata": {},
   "source": [
    "## Aplicando algoritmo para detección de autos (Prueba)"
   ]
  },
  {
   "cell_type": "code",
   "execution_count": 4,
   "metadata": {},
   "outputs": [],
   "source": [
    "video = cv.VideoCapture(\"videos/Autos_10fp.mp4\")\n",
    "while(video.isOpened()):\n",
    "    ret, frame = video.read()\n",
    "    #time.sleep(0.03)\n",
    "    if ret:\n",
    "        frame = detect_car(frame, 1.03, 8)\n",
    "        cv.imshow(\"Deteccion de autos\", frame)\n",
    "        if cv.waitKey(1) & 0xFF == ord('q'):\n",
    "            break\n",
    "    else:\n",
    "        break\n",
    "video.release()\n",
    "cv.destroyAllWindows()"
   ]
  },
  {
   "cell_type": "markdown",
   "metadata": {},
   "source": [
    "En esta primera prueba se logra detectar cada uno de los autos mostrados, aunque algunos se hayan detectado en pocos frames, se puede observar una clara tendencia de falsos positivos en las líneas peatonales, sin embargo puede de alguna manera justificarse por su alto contraste con el suelo y su peculiar forma horizontal que podría interpretarse como un automovil para el algoritmo."
   ]
  },
  {
   "cell_type": "markdown",
   "metadata": {},
   "source": [
    "## Implementación con varios objetos"
   ]
  },
  {
   "cell_type": "code",
   "execution_count": 5,
   "metadata": {},
   "outputs": [],
   "source": [
    "video = cv.VideoCapture(\"videos/Vuelta_objetos_10fp.mp4\")\n",
    "while(video.isOpened()):\n",
    "    ret, frame = video.read()\n",
    "    #time.sleep(0.03)\n",
    "    if ret:\n",
    "        frame = detect_car(frame, 1.027, 6)\n",
    "        #frame = detect_car(frame, 1.04, 4)\n",
    "        cv.imshow(\"Deteccion de autos\", frame)\n",
    "        if cv.waitKey(1) & 0xFF == ord('q'):\n",
    "            break\n",
    "    else:\n",
    "        break\n",
    "video.release()\n",
    "cv.destroyAllWindows()"
   ]
  },
  {
   "cell_type": "markdown",
   "metadata": {},
   "source": [
    "En la implementación con distintos objetos, primero se puede observar algunos falsos positivos, pero con una cantidad moderada y sobre objetos que podrían parecerse a un automóvil, como objetos oscuros horizontales.\n",
    "\n",
    "También se logró la correcta detección de los autos mostrados, así que esta configuración permite un correcto equilibrio de detección."
   ]
  }
 ],
 "metadata": {
  "kernelspec": {
   "display_name": "Python 3",
   "language": "python",
   "name": "python3"
  },
  "language_info": {
   "codemirror_mode": {
    "name": "ipython",
    "version": 3
   },
   "file_extension": ".py",
   "mimetype": "text/x-python",
   "name": "python",
   "nbconvert_exporter": "python",
   "pygments_lexer": "ipython3",
   "version": "3.7.3"
  }
 },
 "nbformat": 4,
 "nbformat_minor": 2
}
